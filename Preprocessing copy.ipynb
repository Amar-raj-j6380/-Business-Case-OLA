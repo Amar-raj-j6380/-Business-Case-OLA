{
 "cells": [
  {
   "cell_type": "code",
   "execution_count": 1,
   "metadata": {},
   "outputs": [],
   "source": [
    "import pandas as pd\n",
    "import numpy as np\n",
    "import seaborn as sns\n",
    "import matplotlib.pyplot as plt"
   ]
  },
  {
   "cell_type": "code",
   "execution_count": 2,
   "metadata": {},
   "outputs": [],
   "source": [
    "df = pd.read_csv(\"df_grouped.csv\").drop(columns=[\"Unnamed: 0\"])"
   ]
  },
  {
   "cell_type": "code",
   "execution_count": 3,
   "metadata": {},
   "outputs": [
    {
     "data": {
      "text/plain": [
       "2381"
      ]
     },
     "execution_count": 3,
     "metadata": {},
     "output_type": "execute_result"
    }
   ],
   "source": [
    "len(df)"
   ]
  },
  {
   "cell_type": "code",
   "execution_count": 4,
   "metadata": {},
   "outputs": [
    {
     "data": {
      "text/html": [
       "<div>\n",
       "<style scoped>\n",
       "    .dataframe tbody tr th:only-of-type {\n",
       "        vertical-align: middle;\n",
       "    }\n",
       "\n",
       "    .dataframe tbody tr th {\n",
       "        vertical-align: top;\n",
       "    }\n",
       "\n",
       "    .dataframe thead th {\n",
       "        text-align: right;\n",
       "    }\n",
       "</style>\n",
       "<table border=\"1\" class=\"dataframe\">\n",
       "  <thead>\n",
       "    <tr style=\"text-align: right;\">\n",
       "      <th></th>\n",
       "      <th>Driver_ID</th>\n",
       "      <th>Gender</th>\n",
       "      <th>City</th>\n",
       "      <th>Education_Level</th>\n",
       "      <th>Joining Designation</th>\n",
       "      <th>Current_date</th>\n",
       "      <th>Total_Months_Worked</th>\n",
       "      <th>Max_Grade</th>\n",
       "      <th>Income_Total</th>\n",
       "      <th>Age_Max</th>\n",
       "      <th>Total_Business_Value</th>\n",
       "      <th>Quarterly_Rating_Mean</th>\n",
       "      <th>Churn_User</th>\n",
       "    </tr>\n",
       "  </thead>\n",
       "  <tbody>\n",
       "    <tr>\n",
       "      <th>8</th>\n",
       "      <td>13</td>\n",
       "      <td>0.0</td>\n",
       "      <td>C19</td>\n",
       "      <td>2.0</td>\n",
       "      <td>1.0</td>\n",
       "      <td>12/01/19</td>\n",
       "      <td>23</td>\n",
       "      <td>4.0</td>\n",
       "      <td>2742221.0</td>\n",
       "      <td>31.0</td>\n",
       "      <td>10213040.0</td>\n",
       "      <td>1.260870</td>\n",
       "      <td>1.0</td>\n",
       "    </tr>\n",
       "    <tr>\n",
       "      <th>17</th>\n",
       "      <td>25</td>\n",
       "      <td>0.0</td>\n",
       "      <td>C24</td>\n",
       "      <td>1.0</td>\n",
       "      <td>1.0</td>\n",
       "      <td>12/01/20</td>\n",
       "      <td>24</td>\n",
       "      <td>3.0</td>\n",
       "      <td>2449848.0</td>\n",
       "      <td>31.0</td>\n",
       "      <td>36351110.0</td>\n",
       "      <td>3.750000</td>\n",
       "      <td>0.0</td>\n",
       "    </tr>\n",
       "    <tr>\n",
       "      <th>18</th>\n",
       "      <td>26</td>\n",
       "      <td>0.0</td>\n",
       "      <td>C14</td>\n",
       "      <td>2.0</td>\n",
       "      <td>1.0</td>\n",
       "      <td>12/01/20</td>\n",
       "      <td>24</td>\n",
       "      <td>4.0</td>\n",
       "      <td>3027176.0</td>\n",
       "      <td>43.0</td>\n",
       "      <td>69867900.0</td>\n",
       "      <td>3.083333</td>\n",
       "      <td>0.0</td>\n",
       "    </tr>\n",
       "    <tr>\n",
       "      <th>42</th>\n",
       "      <td>56</td>\n",
       "      <td>1.0</td>\n",
       "      <td>C19</td>\n",
       "      <td>2.0</td>\n",
       "      <td>1.0</td>\n",
       "      <td>12/01/20</td>\n",
       "      <td>24</td>\n",
       "      <td>1.0</td>\n",
       "      <td>1925352.0</td>\n",
       "      <td>36.0</td>\n",
       "      <td>11723470.0</td>\n",
       "      <td>2.875000</td>\n",
       "      <td>0.0</td>\n",
       "    </tr>\n",
       "    <tr>\n",
       "      <th>46</th>\n",
       "      <td>60</td>\n",
       "      <td>1.0</td>\n",
       "      <td>C20</td>\n",
       "      <td>0.0</td>\n",
       "      <td>1.0</td>\n",
       "      <td>12/01/20</td>\n",
       "      <td>24</td>\n",
       "      <td>4.0</td>\n",
       "      <td>2015820.0</td>\n",
       "      <td>48.0</td>\n",
       "      <td>49225520.0</td>\n",
       "      <td>3.500000</td>\n",
       "      <td>0.0</td>\n",
       "    </tr>\n",
       "    <tr>\n",
       "      <th>...</th>\n",
       "      <td>...</td>\n",
       "      <td>...</td>\n",
       "      <td>...</td>\n",
       "      <td>...</td>\n",
       "      <td>...</td>\n",
       "      <td>...</td>\n",
       "      <td>...</td>\n",
       "      <td>...</td>\n",
       "      <td>...</td>\n",
       "      <td>...</td>\n",
       "      <td>...</td>\n",
       "      <td>...</td>\n",
       "      <td>...</td>\n",
       "    </tr>\n",
       "    <tr>\n",
       "      <th>2342</th>\n",
       "      <td>2740</td>\n",
       "      <td>0.0</td>\n",
       "      <td>C22</td>\n",
       "      <td>2.0</td>\n",
       "      <td>1.0</td>\n",
       "      <td>12/01/20</td>\n",
       "      <td>24</td>\n",
       "      <td>2.0</td>\n",
       "      <td>854352.0</td>\n",
       "      <td>47.0</td>\n",
       "      <td>20843460.0</td>\n",
       "      <td>3.125000</td>\n",
       "      <td>0.0</td>\n",
       "    </tr>\n",
       "    <tr>\n",
       "      <th>2351</th>\n",
       "      <td>2753</td>\n",
       "      <td>1.0</td>\n",
       "      <td>C11</td>\n",
       "      <td>1.0</td>\n",
       "      <td>1.0</td>\n",
       "      <td>12/01/20</td>\n",
       "      <td>24</td>\n",
       "      <td>5.0</td>\n",
       "      <td>3473424.0</td>\n",
       "      <td>40.0</td>\n",
       "      <td>61583040.0</td>\n",
       "      <td>2.750000</td>\n",
       "      <td>0.0</td>\n",
       "    </tr>\n",
       "    <tr>\n",
       "      <th>2363</th>\n",
       "      <td>2766</td>\n",
       "      <td>1.0</td>\n",
       "      <td>C21</td>\n",
       "      <td>1.0</td>\n",
       "      <td>2.0</td>\n",
       "      <td>12/01/20</td>\n",
       "      <td>24</td>\n",
       "      <td>3.0</td>\n",
       "      <td>1291032.0</td>\n",
       "      <td>37.0</td>\n",
       "      <td>25164110.0</td>\n",
       "      <td>2.875000</td>\n",
       "      <td>1.0</td>\n",
       "    </tr>\n",
       "    <tr>\n",
       "      <th>2366</th>\n",
       "      <td>2771</td>\n",
       "      <td>0.0</td>\n",
       "      <td>C12</td>\n",
       "      <td>0.0</td>\n",
       "      <td>2.0</td>\n",
       "      <td>12/01/20</td>\n",
       "      <td>24</td>\n",
       "      <td>4.0</td>\n",
       "      <td>2194944.0</td>\n",
       "      <td>41.0</td>\n",
       "      <td>19597020.0</td>\n",
       "      <td>2.000000</td>\n",
       "      <td>0.0</td>\n",
       "    </tr>\n",
       "    <tr>\n",
       "      <th>2376</th>\n",
       "      <td>2784</td>\n",
       "      <td>0.0</td>\n",
       "      <td>C24</td>\n",
       "      <td>0.0</td>\n",
       "      <td>2.0</td>\n",
       "      <td>12/01/20</td>\n",
       "      <td>24</td>\n",
       "      <td>3.0</td>\n",
       "      <td>1987560.0</td>\n",
       "      <td>34.0</td>\n",
       "      <td>21748820.0</td>\n",
       "      <td>2.625000</td>\n",
       "      <td>0.0</td>\n",
       "    </tr>\n",
       "  </tbody>\n",
       "</table>\n",
       "<p>249 rows × 13 columns</p>\n",
       "</div>"
      ],
      "text/plain": [
       "      Driver_ID  Gender City  Education_Level  Joining Designation  \\\n",
       "8            13     0.0  C19              2.0                  1.0   \n",
       "17           25     0.0  C24              1.0                  1.0   \n",
       "18           26     0.0  C14              2.0                  1.0   \n",
       "42           56     1.0  C19              2.0                  1.0   \n",
       "46           60     1.0  C20              0.0                  1.0   \n",
       "...         ...     ...  ...              ...                  ...   \n",
       "2342       2740     0.0  C22              2.0                  1.0   \n",
       "2351       2753     1.0  C11              1.0                  1.0   \n",
       "2363       2766     1.0  C21              1.0                  2.0   \n",
       "2366       2771     0.0  C12              0.0                  2.0   \n",
       "2376       2784     0.0  C24              0.0                  2.0   \n",
       "\n",
       "     Current_date  Total_Months_Worked  Max_Grade  Income_Total  Age_Max  \\\n",
       "8        12/01/19                   23        4.0     2742221.0     31.0   \n",
       "17       12/01/20                   24        3.0     2449848.0     31.0   \n",
       "18       12/01/20                   24        4.0     3027176.0     43.0   \n",
       "42       12/01/20                   24        1.0     1925352.0     36.0   \n",
       "46       12/01/20                   24        4.0     2015820.0     48.0   \n",
       "...           ...                  ...        ...           ...      ...   \n",
       "2342     12/01/20                   24        2.0      854352.0     47.0   \n",
       "2351     12/01/20                   24        5.0     3473424.0     40.0   \n",
       "2363     12/01/20                   24        3.0     1291032.0     37.0   \n",
       "2366     12/01/20                   24        4.0     2194944.0     41.0   \n",
       "2376     12/01/20                   24        3.0     1987560.0     34.0   \n",
       "\n",
       "      Total_Business_Value  Quarterly_Rating_Mean  Churn_User  \n",
       "8               10213040.0               1.260870         1.0  \n",
       "17              36351110.0               3.750000         0.0  \n",
       "18              69867900.0               3.083333         0.0  \n",
       "42              11723470.0               2.875000         0.0  \n",
       "46              49225520.0               3.500000         0.0  \n",
       "...                    ...                    ...         ...  \n",
       "2342            20843460.0               3.125000         0.0  \n",
       "2351            61583040.0               2.750000         0.0  \n",
       "2363            25164110.0               2.875000         1.0  \n",
       "2366            19597020.0               2.000000         0.0  \n",
       "2376            21748820.0               2.625000         0.0  \n",
       "\n",
       "[249 rows x 13 columns]"
      ]
     },
     "execution_count": 4,
     "metadata": {},
     "output_type": "execute_result"
    }
   ],
   "source": [
    "df[df[\"Total_Months_Worked\"]>20]"
   ]
  },
  {
   "cell_type": "code",
   "execution_count": 5,
   "metadata": {},
   "outputs": [
    {
     "data": {
      "text/plain": [
       "Gender\n",
       "0.0    1404\n",
       "1.0     977\n",
       "Name: count, dtype: int64"
      ]
     },
     "execution_count": 5,
     "metadata": {},
     "output_type": "execute_result"
    }
   ],
   "source": [
    "df[\"Gender\"].value_counts()"
   ]
  },
  {
   "cell_type": "code",
   "execution_count": 6,
   "metadata": {},
   "outputs": [
    {
     "data": {
      "text/plain": [
       "Churn_User\n",
       "1.0    0.676606\n",
       "0.0    0.323394\n",
       "Name: count, dtype: float64"
      ]
     },
     "execution_count": 6,
     "metadata": {},
     "output_type": "execute_result"
    }
   ],
   "source": [
    "df[\"Churn_User\"].value_counts()/2381"
   ]
  },
  {
   "cell_type": "code",
   "execution_count": 7,
   "metadata": {},
   "outputs": [],
   "source": [
    "# Not Doing Oversampling to balance classes as the proportion is significant "
   ]
  },
  {
   "cell_type": "code",
   "execution_count": 8,
   "metadata": {},
   "outputs": [],
   "source": [
    "df[\"Year\"] = pd.to_datetime(df[\"Current_date\"], format='%m/%d/%y').dt.year"
   ]
  },
  {
   "cell_type": "code",
   "execution_count": 9,
   "metadata": {},
   "outputs": [
    {
     "data": {
      "image/png": "[encoded data removed]",
      "text/plain": [
       "<Figure size 1500x500 with 1 Axes>"
      ]
     },
     "metadata": {},
     "output_type": "display_data"
    }
   ],
   "source": [
    "plt.figure(figsize=(15, 5)) \n",
    "sns.countplot(df, x=\"City\", hue=\"Churn_User\")\n",
    "#sns.barplot(df, x=\"City\", y=\"Total_Business_Value\",  hue=\"Churn_User\")\n",
    "plt.title('Bar Plot')\n",
    "plt.xlabel('X')\n",
    "plt.ylabel('Y')\n",
    "plt.show()"
   ]
  },
  {
   "cell_type": "code",
   "execution_count": 10,
   "metadata": {},
   "outputs": [
    {
     "data": {
      "image/png": "[encoded data removed]",
      "text/plain": [
       "<Figure size 500x500 with 1 Axes>"
      ]
     },
     "metadata": {},
     "output_type": "display_data"
    }
   ],
   "source": [
    "plt.figure(figsize=(5, 5)) \n",
    "sns.barplot(df, x=\"Gender\", y=\"Total_Business_Value\",  hue=\"Churn_User\")\n",
    "plt.title('Bar Plot')\n",
    "plt.xlabel('X')\n",
    "plt.ylabel('Y')\n",
    "plt.show()"
   ]
  },
  {
   "cell_type": "code",
   "execution_count": 11,
   "metadata": {},
   "outputs": [
    {
     "data": {
      "image/png": "[encoded data removed]",
      "text/plain": [
       "<Figure size 500x500 with 1 Axes>"
      ]
     },
     "metadata": {},
     "output_type": "display_data"
    }
   ],
   "source": [
    "plt.figure(figsize=(5, 5)) \n",
    "sns.barplot(df, x=\"Year\", y=\"Age_Max\", hue=\"Churn_User\")\n",
    "plt.title('Bar Plot')\n",
    "plt.xlabel('X')\n",
    "plt.ylabel('Y')\n",
    "plt.show()"
   ]
  },
  {
   "cell_type": "code",
   "execution_count": 12,
   "metadata": {},
   "outputs": [
    {
     "data": {
      "image/png": "[encoded data removed]",
      "text/plain": [
       "<Figure size 500x500 with 1 Axes>"
      ]
     },
     "metadata": {},
     "output_type": "display_data"
    }
   ],
   "source": [
    "plt.figure(figsize=(5, 5)) \n",
    "sns.barplot(df, x=\"Year\", y=\"Max_Grade\", hue=\"Churn_User\")\n",
    "plt.title('Bar Plot')\n",
    "plt.xlabel('X')\n",
    "plt.ylabel('Y')\n",
    "plt.show()"
   ]
  },
  {
   "cell_type": "code",
   "execution_count": 13,
   "metadata": {},
   "outputs": [
    {
     "data": {
      "image/png": "[encoded data removed]",
      "text/plain": [
       "<Figure size 500x500 with 1 Axes>"
      ]
     },
     "metadata": {},
     "output_type": "display_data"
    }
   ],
   "source": [
    "plt.figure(figsize=(5, 5)) \n",
    "sns.barplot(df, x=\"Year\", y=\"Total_Months_Worked\", hue=\"Churn_User\")\n",
    "plt.title('Bar Plot')\n",
    "plt.xlabel('X')\n",
    "plt.ylabel('Y')\n",
    "plt.show()"
   ]
  },
  {
   "cell_type": "code",
   "execution_count": 14,
   "metadata": {},
   "outputs": [
    {
     "data": {
      "image/png": "[encoded data removed]",
      "text/plain": [
       "<Figure size 500x500 with 1 Axes>"
      ]
     },
     "metadata": {},
     "output_type": "display_data"
    }
   ],
   "source": [
    "plt.figure(figsize=(5, 5)) \n",
    "sns.barplot(df, x=\"Year\", y=\"Total_Business_Value\", hue=\"Churn_User\")\n",
    "plt.title('Bar Plot')\n",
    "plt.xlabel('X')\n",
    "plt.ylabel('Y')\n",
    "plt.show()"
   ]
  },
  {
   "cell_type": "code",
   "execution_count": 15,
   "metadata": {},
   "outputs": [
    {
     "data": {
      "image/png": "[encoded data removed]",
      "text/plain": [
       "<Figure size 500x500 with 1 Axes>"
      ]
     },
     "metadata": {},
     "output_type": "display_data"
    }
   ],
   "source": [
    "plt.figure(figsize=(5, 5)) \n",
    "sns.barplot(df, x=\"Year\", y=\"Quarterly_Rating_Mean\", hue=\"Churn_User\")\n",
    "plt.title('Bar Plot')\n",
    "plt.xlabel('X')\n",
    "plt.ylabel('Y')\n",
    "plt.show()"
   ]
  },
  {
   "cell_type": "code",
   "execution_count": 16,
   "metadata": {},
   "outputs": [
    {
     "data": {
      "image/png": "[encoded data removed]",
      "text/plain": [
       "<Figure size 500x500 with 1 Axes>"
      ]
     },
     "metadata": {},
     "output_type": "display_data"
    }
   ],
   "source": [
    "plt.figure(figsize=(5, 5)) \n",
    "sns.barplot(df, x=\"Year\", y=\"Income_Total\", hue=\"Churn_User\")\n",
    "plt.title('Bar Plot')\n",
    "plt.xlabel('X')\n",
    "plt.ylabel('Y')\n",
    "plt.show()"
   ]
  },
  {
   "cell_type": "code",
   "execution_count": 17,
   "metadata": {},
   "outputs": [],
   "source": [
    "# Graphs shows that all continuous features contribute towards classification lets do Hypothesi testing for the same"
   ]
  },
  {
   "cell_type": "code",
   "execution_count": 18,
   "metadata": {},
   "outputs": [
    {
     "data": {
      "text/plain": [
       "Index(['Driver_ID', 'Gender', 'City', 'Education_Level', 'Joining Designation',\n",
       "       'Current_date', 'Total_Months_Worked', 'Max_Grade', 'Income_Total',\n",
       "       'Age_Max', 'Total_Business_Value', 'Quarterly_Rating_Mean',\n",
       "       'Churn_User', 'Year'],\n",
       "      dtype='object')"
      ]
     },
     "execution_count": 18,
     "metadata": {},
     "output_type": "execute_result"
    }
   ],
   "source": [
    "df.columns"
   ]
  },
  {
   "cell_type": "code",
   "execution_count": 19,
   "metadata": {},
   "outputs": [],
   "source": [
    "from scipy.stats import f_oneway, ttest_ind, chi2_contingency\n"
   ]
  },
  {
   "cell_type": "code",
   "execution_count": 20,
   "metadata": {},
   "outputs": [
    {
     "name": "stdout",
     "output_type": "stream",
     "text": [
      "==================> Education_Level\n",
      "Churn_User\n",
      "0.0    1.019481\n",
      "1.0    1.001862\n",
      "Name: Education_Level, dtype: float64\n",
      "\n",
      "F_onewayResult(statistic=0.24262121453200705, pvalue=0.622364766950492)\n",
      "\n",
      "TtestResult(statistic=0.4925659494240414, pvalue=0.6223647669499235, df=2379.0)\n",
      "==================> Total_Months_Worked\n",
      "Churn_User\n",
      "0.0    11.368831\n",
      "1.0     6.392303\n",
      "Name: Total_Months_Worked, dtype: float64\n",
      "\n",
      "F_onewayResult(statistic=318.48605243568124, pvalue=5.908683829514221e-67)\n",
      "\n",
      "TtestResult(statistic=17.84617753009538, pvalue=5.908683829521455e-67, df=2379.0)\n",
      "==================> Max_Grade\n",
      "Churn_User\n",
      "0.0    2.400000\n",
      "1.0    1.952204\n",
      "Name: Max_Grade, dtype: float64\n",
      "\n",
      "F_onewayResult(statistic=123.8869809520961, pvalue=4.348154265151052e-28)\n",
      "\n",
      "TtestResult(statistic=11.1304528637471, pvalue=4.348154265156134e-28, df=2379.0)\n",
      "==================> Income_Total\n",
      "Churn_User\n",
      "0.0    832133.658442\n",
      "1.0    378981.928616\n",
      "Name: Income_Total, dtype: float64\n",
      "\n",
      "F_onewayResult(statistic=311.95289694495733, pvalue=1.0668748684844412e-65)\n",
      "\n",
      "TtestResult(statistic=17.662188339641197, pvalue=1.0668748684855995e-65, df=2379.0)\n",
      "==================> Age_Max\n",
      "Churn_User\n",
      "0.0    34.411255\n",
      "1.0    33.453342\n",
      "Name: Age_Max, dtype: float64\n",
      "\n",
      "F_onewayResult(statistic=13.589534469421451, pvalue=0.0002325364073646531)\n",
      "\n",
      "TtestResult(statistic=3.686398577123941, pvalue=0.00023253640736491468, df=2379.0)\n",
      "==================> Total_Business_Value\n",
      "Churn_User\n",
      "0.0    9.560297e+06\n",
      "1.0    2.199349e+06\n",
      "Name: Total_Business_Value, dtype: float64\n",
      "\n",
      "F_onewayResult(statistic=395.7041693631593, pvalue=1.4140682597827218e-81)\n",
      "\n",
      "TtestResult(statistic=19.89231432898544, pvalue=1.4140682597840936e-81, df=2379.0)\n",
      "==================> Quarterly_Rating_Mean\n",
      "Churn_User\n",
      "0.0    1.954262\n",
      "1.0    1.380727\n",
      "Name: Quarterly_Rating_Mean, dtype: float64\n",
      "\n",
      "F_onewayResult(statistic=383.9238269225911, pvalue=2.259459016138845e-79)\n",
      "\n",
      "TtestResult(statistic=19.593974250329897, pvalue=2.2594590161417118e-79, df=2379.0)\n"
     ]
    }
   ],
   "source": [
    "for feature in ['Education_Level', 'Total_Months_Worked', 'Max_Grade', 'Income_Total', 'Age_Max', 'Total_Business_Value', 'Quarterly_Rating_Mean']:\n",
    "    print(\"==================>\", feature)\n",
    "    print(df.groupby([\"Churn_User\"])[feature].mean())\n",
    "    # Conduct the one-way ANOVA\n",
    "    print()\n",
    "    print(f_oneway(list(df[df[\"Churn_User\"]==0][feature]), list(df[df[\"Churn_User\"]==1][feature])))\n",
    "    print()\n",
    "    print(ttest_ind(list(df[df[\"Churn_User\"]==0][feature]), list(df[df[\"Churn_User\"]==1][feature])))"
   ]
  },
  {
   "cell_type": "code",
   "execution_count": 21,
   "metadata": {},
   "outputs": [],
   "source": [
    "# From thes tests other than Education_Level all the continuous features pass the tests so consider them for building the model\n"
   ]
  },
  {
   "cell_type": "code",
   "execution_count": 22,
   "metadata": {},
   "outputs": [
    {
     "data": {
      "text/plain": [
       "Index(['Driver_ID', 'Gender', 'City', 'Education_Level', 'Joining Designation',\n",
       "       'Current_date', 'Total_Months_Worked', 'Max_Grade', 'Income_Total',\n",
       "       'Age_Max', 'Total_Business_Value', 'Quarterly_Rating_Mean',\n",
       "       'Churn_User', 'Year'],\n",
       "      dtype='object')"
      ]
     },
     "execution_count": 22,
     "metadata": {},
     "output_type": "execute_result"
    }
   ],
   "source": [
    "df.columns"
   ]
  },
  {
   "cell_type": "code",
   "execution_count": 23,
   "metadata": {},
   "outputs": [
    {
     "name": "stdout",
     "output_type": "stream",
     "text": [
      "Chi-square statistic: 47.56838333916246\n",
      "P-value: 0.011921264174788875\n",
      "Degrees of freedom: 28\n"
     ]
    }
   ],
   "source": [
    "contingency_table = pd.crosstab(df['City'], df['Churn_User'])\n",
    "\n",
    "# Perform Chi-square test\n",
    "#chi2_contingency(contingency_table)\n",
    "chi2_stat, p_val, dof, expected = chi2_contingency(contingency_table)\n",
    "\n",
    "print(\"Chi-square statistic:\", chi2_stat)\n",
    "print(\"P-value:\", p_val)\n",
    "print(\"Degrees of freedom:\", dof)"
   ]
  },
  {
   "cell_type": "code",
   "execution_count": 24,
   "metadata": {},
   "outputs": [
    {
     "name": "stdout",
     "output_type": "stream",
     "text": [
      "Chi-square statistic: 0.23610018469588578\n",
      "P-value: 0.6270370654022519\n",
      "Degrees of freedom: 1\n"
     ]
    }
   ],
   "source": [
    "contingency_table = pd.crosstab(df['Gender'], df['Churn_User'])\n",
    "\n",
    "# Perform Chi-square test\n",
    "#chi2_contingency(contingency_table)\n",
    "chi2_stat, p_val, dof, expected = chi2_contingency(contingency_table)\n",
    "\n",
    "print(\"Chi-square statistic:\", chi2_stat)\n",
    "print(\"P-value:\", p_val)\n",
    "print(\"Degrees of freedom:\", dof)"
   ]
  },
  {
   "cell_type": "code",
   "execution_count": 25,
   "metadata": {},
   "outputs": [],
   "source": [
    "# Removing Gender, Education_Level features and building the model\n",
    "# Removing City to reduce dimensions due to onehot encoding"
   ]
  },
  {
   "cell_type": "code",
   "execution_count": 26,
   "metadata": {},
   "outputs": [],
   "source": [
    "df[\"Churn_User\"] = df[[\"Churn_User\"]].astype(int)"
   ]
  },
  {
   "cell_type": "code",
   "execution_count": 27,
   "metadata": {},
   "outputs": [],
   "source": [
    "X = df[[ 'Joining Designation',\n",
    "       'Total_Months_Worked', 'Max_Grade', 'Income_Total',\n",
    "       'Age_Max', 'Total_Business_Value', 'Quarterly_Rating_Mean']]     \n",
    "Y= df[[\"Churn_User\"]] "
   ]
  },
  {
   "cell_type": "code",
   "execution_count": 28,
   "metadata": {},
   "outputs": [
    {
     "data": {
      "text/html": [
       "<div>\n",
       "<style scoped>\n",
       "    .dataframe tbody tr th:only-of-type {\n",
       "        vertical-align: middle;\n",
       "    }\n",
       "\n",
       "    .dataframe tbody tr th {\n",
       "        vertical-align: top;\n",
       "    }\n",
       "\n",
       "    .dataframe thead th {\n",
       "        text-align: right;\n",
       "    }\n",
       "</style>\n",
       "<table border=\"1\" class=\"dataframe\">\n",
       "  <thead>\n",
       "    <tr style=\"text-align: right;\">\n",
       "      <th></th>\n",
       "      <th>Joining Designation</th>\n",
       "      <th>Total_Months_Worked</th>\n",
       "      <th>Max_Grade</th>\n",
       "      <th>Income_Total</th>\n",
       "      <th>Age_Max</th>\n",
       "      <th>Total_Business_Value</th>\n",
       "      <th>Quarterly_Rating_Mean</th>\n",
       "    </tr>\n",
       "  </thead>\n",
       "  <tbody>\n",
       "    <tr>\n",
       "      <th>0</th>\n",
       "      <td>1.0</td>\n",
       "      <td>3</td>\n",
       "      <td>1.0</td>\n",
       "      <td>172161.0</td>\n",
       "      <td>28.0</td>\n",
       "      <td>1715580.0</td>\n",
       "      <td>2.000000</td>\n",
       "    </tr>\n",
       "    <tr>\n",
       "      <th>1</th>\n",
       "      <td>2.0</td>\n",
       "      <td>2</td>\n",
       "      <td>2.0</td>\n",
       "      <td>134032.0</td>\n",
       "      <td>31.0</td>\n",
       "      <td>0.0</td>\n",
       "      <td>1.000000</td>\n",
       "    </tr>\n",
       "    <tr>\n",
       "      <th>2</th>\n",
       "      <td>2.0</td>\n",
       "      <td>5</td>\n",
       "      <td>2.0</td>\n",
       "      <td>328015.0</td>\n",
       "      <td>43.0</td>\n",
       "      <td>350000.0</td>\n",
       "      <td>1.000000</td>\n",
       "    </tr>\n",
       "    <tr>\n",
       "      <th>3</th>\n",
       "      <td>1.0</td>\n",
       "      <td>3</td>\n",
       "      <td>1.0</td>\n",
       "      <td>139104.0</td>\n",
       "      <td>29.0</td>\n",
       "      <td>120360.0</td>\n",
       "      <td>1.000000</td>\n",
       "    </tr>\n",
       "    <tr>\n",
       "      <th>4</th>\n",
       "      <td>3.0</td>\n",
       "      <td>5</td>\n",
       "      <td>3.0</td>\n",
       "      <td>393640.0</td>\n",
       "      <td>31.0</td>\n",
       "      <td>1265000.0</td>\n",
       "      <td>1.600000</td>\n",
       "    </tr>\n",
       "    <tr>\n",
       "      <th>...</th>\n",
       "      <td>...</td>\n",
       "      <td>...</td>\n",
       "      <td>...</td>\n",
       "      <td>...</td>\n",
       "      <td>...</td>\n",
       "      <td>...</td>\n",
       "      <td>...</td>\n",
       "    </tr>\n",
       "    <tr>\n",
       "      <th>2376</th>\n",
       "      <td>2.0</td>\n",
       "      <td>24</td>\n",
       "      <td>3.0</td>\n",
       "      <td>1987560.0</td>\n",
       "      <td>34.0</td>\n",
       "      <td>21748820.0</td>\n",
       "      <td>2.625000</td>\n",
       "    </tr>\n",
       "    <tr>\n",
       "      <th>2377</th>\n",
       "      <td>1.0</td>\n",
       "      <td>3</td>\n",
       "      <td>1.0</td>\n",
       "      <td>36315.0</td>\n",
       "      <td>34.0</td>\n",
       "      <td>0.0</td>\n",
       "      <td>1.000000</td>\n",
       "    </tr>\n",
       "    <tr>\n",
       "      <th>2378</th>\n",
       "      <td>2.0</td>\n",
       "      <td>9</td>\n",
       "      <td>2.0</td>\n",
       "      <td>318330.0</td>\n",
       "      <td>45.0</td>\n",
       "      <td>2815090.0</td>\n",
       "      <td>1.666667</td>\n",
       "    </tr>\n",
       "    <tr>\n",
       "      <th>2379</th>\n",
       "      <td>1.0</td>\n",
       "      <td>6</td>\n",
       "      <td>1.0</td>\n",
       "      <td>416988.0</td>\n",
       "      <td>28.0</td>\n",
       "      <td>977830.0</td>\n",
       "      <td>1.500000</td>\n",
       "    </tr>\n",
       "    <tr>\n",
       "      <th>2380</th>\n",
       "      <td>2.0</td>\n",
       "      <td>7</td>\n",
       "      <td>2.0</td>\n",
       "      <td>491778.0</td>\n",
       "      <td>30.0</td>\n",
       "      <td>2298240.0</td>\n",
       "      <td>2.285714</td>\n",
       "    </tr>\n",
       "  </tbody>\n",
       "</table>\n",
       "<p>2381 rows × 7 columns</p>\n",
       "</div>"
      ],
      "text/plain": [
       "      Joining Designation  Total_Months_Worked  Max_Grade  Income_Total  \\\n",
       "0                     1.0                    3        1.0      172161.0   \n",
       "1                     2.0                    2        2.0      134032.0   \n",
       "2                     2.0                    5        2.0      328015.0   \n",
       "3                     1.0                    3        1.0      139104.0   \n",
       "4                     3.0                    5        3.0      393640.0   \n",
       "...                   ...                  ...        ...           ...   \n",
       "2376                  2.0                   24        3.0     1987560.0   \n",
       "2377                  1.0                    3        1.0       36315.0   \n",
       "2378                  2.0                    9        2.0      318330.0   \n",
       "2379                  1.0                    6        1.0      416988.0   \n",
       "2380                  2.0                    7        2.0      491778.0   \n",
       "\n",
       "      Age_Max  Total_Business_Value  Quarterly_Rating_Mean  \n",
       "0        28.0             1715580.0               2.000000  \n",
       "1        31.0                   0.0               1.000000  \n",
       "2        43.0              350000.0               1.000000  \n",
       "3        29.0              120360.0               1.000000  \n",
       "4        31.0             1265000.0               1.600000  \n",
       "...       ...                   ...                    ...  \n",
       "2376     34.0            21748820.0               2.625000  \n",
       "2377     34.0                   0.0               1.000000  \n",
       "2378     45.0             2815090.0               1.666667  \n",
       "2379     28.0              977830.0               1.500000  \n",
       "2380     30.0             2298240.0               2.285714  \n",
       "\n",
       "[2381 rows x 7 columns]"
      ]
     },
     "execution_count": 28,
     "metadata": {},
     "output_type": "execute_result"
    }
   ],
   "source": [
    "X"
   ]
  },
  {
   "cell_type": "code",
   "execution_count": 29,
   "metadata": {},
   "outputs": [
    {
     "name": "stdout",
     "output_type": "stream",
     "text": [
      "Requirement already satisfied: xgboost in c:\\users\\dell\\documents\\github\\-business-case-ola\\.venv\\lib\\site-packages (2.0.3)\n",
      "Requirement already satisfied: numpy in c:\\users\\dell\\documents\\github\\-business-case-ola\\.venv\\lib\\site-packages (from xgboost) (1.26.4)\n",
      "Requirement already satisfied: scipy in c:\\users\\dell\\documents\\github\\-business-case-ola\\.venv\\lib\\site-packages (from xgboost) (1.13.0)\n",
      "Note: you may need to restart the kernel to use updated packages.\n"
     ]
    }
   ],
   "source": [
    "pip install xgboost"
   ]
  },
  {
   "cell_type": "code",
   "execution_count": 30,
   "metadata": {},
   "outputs": [],
   "source": [
    "import xgboost as xgb\n",
    "from sklearn.model_selection import train_test_split\n",
    "from sklearn.metrics import accuracy_score"
   ]
  },
  {
   "cell_type": "code",
   "execution_count": 31,
   "metadata": {},
   "outputs": [
    {
     "name": "stdout",
     "output_type": "stream",
     "text": [
      "Accuracy: 0.7751677852348994\n"
     ]
    }
   ],
   "source": [
    "# Split the data into training and testing sets\n",
    "X_train, X_test, y_train, y_test = train_test_split(X, Y, test_size=0.25, random_state=42)\n",
    "\n",
    "# Create the XGBoost classifier\n",
    "clf = xgb.XGBClassifier()\n",
    "\n",
    "# Train the classifier\n",
    "clf.fit(X_train, y_train)\n",
    "\n",
    "# Make predictions on the test set\n",
    "y_pred = clf.predict(X_test)\n",
    "\n",
    "# Evaluate the accuracy of the classifier\n",
    "accuracy = accuracy_score(y_test, y_pred)\n",
    "print(\"Accuracy:\", accuracy)"
   ]
  },
  {
   "cell_type": "code",
   "execution_count": 32,
   "metadata": {},
   "outputs": [
    {
     "name": "stdout",
     "output_type": "stream",
     "text": [
      "Classification Report:\n",
      "              precision    recall  f1-score   support\n",
      "\n",
      "           0       0.71      0.53      0.61       195\n",
      "           1       0.80      0.90      0.84       401\n",
      "\n",
      "    accuracy                           0.78       596\n",
      "   macro avg       0.75      0.71      0.72       596\n",
      "weighted avg       0.77      0.78      0.77       596\n",
      "\n",
      "Precision: 0.7960088691796009\n",
      "Recall: 0.8952618453865336\n"
     ]
    }
   ],
   "source": [
    "from sklearn.metrics import classification_report, precision_score, recall_score\n",
    "\n",
    "\n",
    "# Generate classification report\n",
    "print(\"Classification Report:\")\n",
    "print(classification_report(y_test, y_pred))\n",
    "\n",
    "# Calculate precision and recall\n",
    "precision = precision_score(y_test, y_pred)\n",
    "recall = recall_score(y_test, y_pred)\n",
    "\n",
    "print(\"Precision:\", precision)\n",
    "print(\"Recall:\", recall)"
   ]
  },
  {
   "cell_type": "code",
   "execution_count": null,
   "metadata": {},
   "outputs": [],
   "source": []
  },
  {
   "cell_type": "code",
   "execution_count": null,
   "metadata": {},
   "outputs": [],
   "source": []
  },
  {
   "cell_type": "code",
   "execution_count": null,
   "metadata": {},
   "outputs": [],
   "source": []
  },
  {
   "cell_type": "code",
   "execution_count": null,
   "metadata": {},
   "outputs": [],
   "source": []
  },
  {
   "cell_type": "code",
   "execution_count": null,
   "metadata": {},
   "outputs": [],
   "source": []
  },
  {
   "cell_type": "code",
   "execution_count": null,
   "metadata": {},
   "outputs": [],
   "source": []
  },
  {
   "cell_type": "code",
   "execution_count": null,
   "metadata": {},
   "outputs": [],
   "source": []
  },
  {
   "cell_type": "code",
   "execution_count": null,
   "metadata": {},
   "outputs": [],
   "source": []
  },
  {
   "cell_type": "code",
   "execution_count": null,
   "metadata": {},
   "outputs": [],
   "source": []
  },
  {
   "cell_type": "code",
   "execution_count": null,
   "metadata": {},
   "outputs": [],
   "source": []
  }
 ],
 "metadata": {
  "kernelspec": {
   "display_name": ".venv",
   "language": "python",
   "name": "python3"
  },
  "language_info": {
   "codemirror_mode": {
    "name": "ipython",
    "version": 3
   },
   "file_extension": ".py",
   "mimetype": "text/x-python",
   "name": "python",
   "nbconvert_exporter": "python",
   "pygments_lexer": "ipython3",
   "version": "3.11.9"
  }
 },
 "nbformat": 4,
 "nbformat_minor": 2
}
